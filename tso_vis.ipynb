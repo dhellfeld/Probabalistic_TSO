{
 "cells": [
  {
   "cell_type": "code",
   "execution_count": 68,
   "metadata": {},
   "outputs": [],
   "source": [
    "import numpy as np\n",
    "from mayavi import mlab\n",
    "# mlab.init_notebook()\n",
    "# mlab.options.offscreen = True\n",
    "\n",
    "# np.set_printoptions(threshold=3)"
   ]
  },
  {
   "cell_type": "code",
   "execution_count": 69,
   "metadata": {},
   "outputs": [
    {
     "data": {
      "text/plain": [
       "(77757, 3)"
      ]
     },
     "execution_count": 69,
     "metadata": {},
     "output_type": "execute_result"
    }
   ],
   "source": [
    "occ = np.loadtxt(\"occupied.txt\", delimiter=\",\")\n",
    "free = np.loadtxt(\"free.txt\", delimiter=\",\")\n",
    "unk = np.loadtxt(\"unknown.txt\", delimiter=\",\")\n",
    "occ.shape"
   ]
  },
  {
   "cell_type": "code",
   "execution_count": 76,
   "metadata": {
    "scrolled": false
   },
   "outputs": [],
   "source": [
    "# mlab.points3d(occ[:, 0], occ[:, 1], occ[:, 2], mode='point', color=(0.55, 0.9, 1), scale_factor=2, opacity=0.8) \n",
    "# mlab.points3d(free[:, 0], free[:, 1], free[:, 2], mode='point', color=(0.1, 0.2, 0.9), scale_factor=.25, opacity=0.1)\n",
    "# mlab.points3d(unk[:, 0], unk[:, 1], unk[:, 2], mode='point', color=(0.2, 0.4, 0.5), opacity=0.5)\n",
    "# mlab.show()"
   ]
  },
  {
   "cell_type": "code",
   "execution_count": null,
   "metadata": {},
   "outputs": [],
   "source": []
  },
  {
   "cell_type": "code",
   "execution_count": null,
   "metadata": {},
   "outputs": [],
   "source": []
  }
 ],
 "metadata": {
  "kernelspec": {
   "display_name": "Python 3",
   "language": "python",
   "name": "python3"
  },
  "language_info": {
   "codemirror_mode": {
    "name": "ipython",
    "version": 3
   },
   "file_extension": ".py",
   "mimetype": "text/x-python",
   "name": "python",
   "nbconvert_exporter": "python",
   "pygments_lexer": "ipython3",
   "version": "3.6.5"
  }
 },
 "nbformat": 4,
 "nbformat_minor": 2
}
